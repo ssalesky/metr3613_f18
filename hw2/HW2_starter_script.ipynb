{
 "cells": [
  {
   "cell_type": "markdown",
   "metadata": {},
   "source": [
    "# METR3613: Meteorological Measurements, Dr. Scott Salesky \n",
    "## Homework Assignment 2: Basic Analysis of Mesonet Data with Python\n",
    "The goal of this assignment will be to introduce you to basic data analysis, using the Python programming language and data from the Oklahoma Mesonet. This semester we will be using the iPython notebook environment, which will allow you to run Python code interactively in a web browser. The basics of running code in an iPython notebook, and a refresher on programming in Python has already been covered in the Help Session in class before this assignment.\n",
    "\n",
    "### How to use this Notebook\n",
    "Before you get started, you will have to download this iPython notebook to a folder on your computer where you can edit it. Rename the file as \"HW2_LastName_FirstName.ipynb\", as this is one of the files you will have to submit for your assignment. \n",
    "\n",
    "This iPython notebook has some cells the contain descriptive text, and others that contain Python code, which can be run directly in the web brower. Read the descriptions carefully, as they contain instructions for the assignment, and descriptions of what the code in each cell does. Also pay attention to comments in the Python code (lines that start with \"#\"), as these contain additional information about what the code does. If you double click a cell, you will be able to edit the contents. If you press Shift + Enter, this will execute the code in the cell. At a number of places in the Notebook, there is text that says **[TRY THIS]** where you can edit the code and explore the output. There are also a number of **Exercises** where you will have to edit / modify the code. New cells can be added by going to the Toolbar, then Cell -> Insert Cell (Above or Below). Homework problems you are expected to complete for this assignment can be found at the end of the notebook.\n",
    "\n",
    "***"
   ]
  },
  {
   "cell_type": "markdown",
   "metadata": {},
   "source": [
    "## Overview\n",
    "Figures 1-4 below show time-series plots of air temperature, wind speed and wind direction, pressure, solar radiation, and rainfall recorded at the Norman Mesonet site on July 30, 2018. All time stamps are in UTC. In this assignment, you will be asked to recreate these plots (using some starter code provided below), and to modify the provided code to calculate hourly averages.\n",
    "***"
   ]
  },
  {
   "cell_type": "markdown",
   "metadata": {},
   "source": [
    "**Fig. 1** Temperatures at 2 m and 9 m above ground level measured at the Norman Mesonet site on July 30, 2018. \n",
    "\n",
    "<img src=\"Norman_temp_20180730.png\" width=500></img>\n",
    "***\n",
    "**Fig. 2** Wind speed and direction at 10 m above ground level measured at the Norman Mesonet site on July 30, 2018.\n",
    "\n",
    "<img src=\"Norman_ws_wd_20180730.png\" width=500></img>\n",
    "***\n",
    "**Fig. 3** Atmospheric pressure measured at Norman Mesonet site on July 30, 2018.\n",
    "\n",
    "<img src=\"Norman_press_20180730.png\" width=500></img>\n",
    "***\n",
    "**Fig. 4** Incoming solar radiation and rainfall accumulated after midnight measured at Norman Mesonet site on July 30, 2018.\n",
    "\n",
    "<img src=\"Norman_rad_rain_20180730.png\" width=500></img>\n",
    "***"
   ]
  },
  {
   "cell_type": "markdown",
   "metadata": {},
   "source": [
    "## Downloading and reading Mesonet data\n",
    "To get started, you will need to download the correct data file, available here from the [Mesonet archive](http://www.mesonet.org/data/basic/mesonet/mts). In particular, you will want to download ``20180730nrmn.mts``. Save the file (text file with extension .mts) in the folder you plan to work from in Python. Make sure the data file is in the same folder as this iPython notebook file (\"HW2_starter_script.ipynb\"). We will define a function below in Python, which will allow us to import the Mesonet data for analysis and plotting. Comments in the code (denoted with a #) provide more information about what the code is doing.\n",
    "\n",
    "For more information on the Mesonet data files, please see the following pages from the Mesonet:\n",
    "\n",
    "[Air temperature measurements](https://www.mesonet.org/index.php/site/about/air_temperature_and_related_measurements)\n",
    "\n",
    "[Wind measurements](https://www.mesonet.org/index.php/site/about/wind_measurements)\n",
    "\n",
    "[Moisture measurements](https://www.mesonet.org/index.php/site/about/moisture_measurements)\n",
    "\n",
    "[Soil temperature measurements](https://www.mesonet.org/index.php/site/about/soil_temperature_measurements)\n",
    "\n",
    "[Other measurements](https://www.mesonet.org/index.php/site/about/other_measurements)"
   ]
  },
  {
   "cell_type": "code",
   "execution_count": 4,
   "metadata": {
    "collapsed": true
   },
   "outputs": [],
   "source": [
    "def mesonet_importfile(filename):\n",
    "    ''' \n",
    "    ----------------------------------------------------------------\n",
    "    Author: Scott Salesky, University of Oklahoma\n",
    "    Date: June 25, 2018\n",
    "    ----------------------------------------------------------------\n",
    "    Imports files containing 5-min average data from the Oklahoma Mesonet, available from\n",
    "    http://www.mesonet.org/data/basic/mesonet/mts/. Skips header files, and reads in \n",
    "    all variables as strings. Numerical quantities are converted to floating point values\n",
    "    before they are passed to the output variables.\n",
    "    ----------------------------------------------------------------\n",
    "    '''\n",
    "    #Import Numerical Python package\n",
    "    import numpy as np\n",
    "    \n",
    "    #Loads data from text file, skipping 3 header lines and removing whitespace.\n",
    "    #All variables are loaded in string format.\n",
    "    inputdata = np.genfromtxt(filename,skip_header=3,autostrip='True',dtype=str)\n",
    "\n",
    "    print 'Importing ',filename\n",
    "\n",
    "    # Pass data from inputdata array to variable names and convert all\n",
    "    # quantities to floating point numbers except for the Station ID.\n",
    "    # Note that in Python array indexing begins at 0 (like C), NOT at 1 (like Matlab or Fortran)\n",
    "    STID = inputdata[:,0]                     #Station ID\n",
    "    STNM = inputdata[:,1].astype(float)       #Station Number\n",
    "    TIME = inputdata[:,2].astype(float)       #Time (UTC)\n",
    "    RELH = inputdata[:,3].astype(float)       #Average relative humidity at 1.5m [%]\n",
    "    TAIR = inputdata[:,4].astype(float)       #Average air temperature at 1.5m [degrees C]\n",
    "    WSPD = inputdata[:,5].astype(float)       #Average wind speed at 10m [m/s]\n",
    "    WVEC = inputdata[:,6].astype(float)       #Average vector wind speed at 10m [m/s]\n",
    "    WDIR = inputdata[:,7].astype(float)       #Average wind direction at 10m [degrees, where north is 0 degrees]\n",
    "    WDSD = inputdata[:,8].astype(float)       #Average wind direction standard deviation at 10m [degrees]\n",
    "    WSSD = inputdata[:,9].astype(float)       #Average wind speed standard deviation at 10m [m/s]\n",
    "    WMAX = inputdata[:,10].astype(float)      #Maximum wind speed observed in 5-min interval [m/s]\n",
    "    RAIN = inputdata[:,11].astype(float)      #Cumulative rainfall since 0000 UTC [mm of water per day]\n",
    "    PRES = inputdata[:,12].astype(float)      #Station pressure [mb]\n",
    "    SRAD = inputdata[:,13].astype(float)      #Downwelling global solar radiation [W m^-2]\n",
    "    TA9M = inputdata[:,14].astype(float)      #Same as TAIR, but measured at 9 m [degrees C]\n",
    "    WS2M = inputdata[:,15].astype(float)      #Average wind speed at 2 m [m/s]\n",
    "    TS10 = inputdata[:,16].astype(float)      #Soil temperature under sod at 10 cm [degrees C]\n",
    "    TB10 = inputdata[:,17].astype(float)      #Soil temperature under bare soil at 10 cm [degrees C]\n",
    "    TS05 = inputdata[:,18].astype(float)      #Soil temperature under sod at 5 cm [degrees C]\n",
    "    TS25 = inputdata[:,19].astype(float)      #Soil temperature under sod at 25 cm [degrees C]\n",
    "    TS60 = inputdata[:,20].astype(float)      #Soil temperature under sod at 60 cm [degrees C]\n",
    "    TR05 = inputdata[:,21].astype(float)      #Calibrated Delta T of soil at 5 cm (used to calculate soil moisture) [degrees C]\n",
    "    TR25 = inputdata[:,22].astype(float)      #Calibrated Delta T of soil at 25 cm [degrees C]\n",
    "    TR60 = inputdata[:,23].astype(float)      #Calibrated Delta T of soil at 60 cm [degrees C]\n",
    "\n",
    "    #Return a list of the Mesonet variables\n",
    "    return [STID, STNM, TIME, RELH, TAIR, WSPD, WVEC, WDIR, WDSD, WSSD, WMAX, RAIN, \n",
    "            PRES, SRAD, TA9M, WS2M, TS10, TB10, TS05, TS25, TS60, TR05, TR25, TR60]\n"
   ]
  },
  {
   "cell_type": "markdown",
   "metadata": {},
   "source": [
    "We will start with the main script that processes the Mesonet data. We first will import some of the Python packages that we will need for the code. Here we will import NumPy (the Numerical Python package), and Matplotlib (the Python plotting package). There is excellent documentation for both of these packages available online; see the following links for \n",
    "[NumPy](https://docs.scipy.org/doc/numpy/reference/) and for [Matplotlib](https://matplotlib.org/). Both contain examples of how to use different commands in the code, and the Matplotlib website has examples of many different kinds of plots you can make, and example code that you can use to generate them. "
   ]
  },
  {
   "cell_type": "code",
   "execution_count": 5,
   "metadata": {
    "collapsed": true
   },
   "outputs": [],
   "source": [
    "#Import Python packages\n",
    "import numpy as np                 #Numerical Python package\n",
    "%matplotlib inline\n",
    "import matplotlib.pyplot as plt    #Matplotlib, the Python plotting package\n",
    "from matplotlib import rc          #Function that lets us control plot properties"
   ]
  },
  {
   "cell_type": "markdown",
   "metadata": {},
   "source": [
    "Now, let's define a filename so our import function can load the Mesonet data file we want to analyze. This assumes that the Mesonet data file is in the directory in which you are working (so the code can see it). Otherwise 'filename' would have to be set to the full directory path to the file; see the example of this below."
   ]
  },
  {
   "cell_type": "code",
   "execution_count": 23,
   "metadata": {
    "collapsed": true
   },
   "outputs": [],
   "source": [
    "filename = '20180730nrmn.mts'\n",
    "#Note that if the mesonet file is not in the same directory as this file (HW_2_starter_script.ipynb),\n",
    "#you will need to include the full path to the file in the filename like this:\n",
    "#filename='/Users/salesky/work/METR3613/homework/hw2/20180730nrmn.mts'"
   ]
  },
  {
   "cell_type": "markdown",
   "metadata": {},
   "source": [
    "Once \"filename\" is set, we are ready to use the ```mesonet_importfile()``` function that we just defined above. It has the ability to read in each column from the Mesonet data file. However, we don't need all of the variables for our analysis, and can skip unneeded ones by replacing them with an \"_\". "
   ]
  },
  {
   "cell_type": "code",
   "execution_count": 7,
   "metadata": {},
   "outputs": [
    {
     "name": "stdout",
     "output_type": "stream",
     "text": [
      "Importing  20180730nrmn.mts\n"
     ]
    }
   ],
   "source": [
    "#The import function reads in each colum in the Mesonet .mts file as a separate variable, \n",
    "#and should be called as follows:\n",
    "# [STID, STNM, TIME, RELH, TAIR, WSPD, WVEC, WDIR, WDSD, WSSD, WMAX, RAIN, \n",
    "#        PRES, SRAD, TA9M, WS2M, TS10, TB10, TS05, TS25, TS60, TR05, TR25, TR60] = mesonet_importfile(filename)\n",
    "\n",
    "# However, we don't need all the variables for our analysis. The variables that are not read in can be\n",
    "# replaced by a _ when the function is called.\n",
    "\n",
    "[STID, STNM, TIME, RELH, TAIR, WSPD, _, WDIR, _, _, _, RAIN, \n",
    "       PRES, SRAD, TA9M, WS2M, _, _, _, _, _, _, _, _] = mesonet_importfile(filename)"
   ]
  },
  {
   "cell_type": "markdown",
   "metadata": {},
   "source": [
    "We can check if we've read in the data successfully. We can print one of the variables to screen to make sure that the values make sense. "
   ]
  },
  {
   "cell_type": "code",
   "execution_count": 8,
   "metadata": {},
   "outputs": [
    {
     "name": "stdout",
     "output_type": "stream",
     "text": [
      "[31.9 31.8 31.7 31.6 31.5 31.3 31.1 31.  30.9 30.7 30.5 30.4 30.3 30.2\n",
      " 30.  29.8 29.6 29.3 29.2 29.  28.9 28.8 28.7 28.7 28.5 28.4 28.4 28.4\n",
      " 28.3 28.1 28.  27.8 27.8 27.8 27.6 27.5 27.4 27.4 27.4 27.3 27.2 27.2\n",
      " 27.1 27.  26.9 26.9 26.8 26.7 26.7 26.6 26.3 26.3 26.1 26.1 26.1 26.\n",
      " 26.2 26.3 26.3 26.2 26.1 26.  26.2 26.1 26.  25.8 25.7 25.6 25.5 25.4\n",
      " 25.4 25.3 25.2 25.3 25.2 25.3 25.4 25.3 25.3 25.3 25.3 25.3 25.2 25.2\n",
      " 25.1 25.  25.1 25.1 25.  25.  25.1 25.  25.  25.1 25.1 25.1 25.1 25.1\n",
      " 25.1 25.2 24.8 22.7 20.8 20.2 20.2 20.5 20.7 21.2 21.2 21.1 20.7 20.5\n",
      " 20.4 20.4 20.4 20.4 20.3 20.2 20.3 20.3 20.3 20.2 20.1 20.2 20.1 20.\n",
      " 19.9 19.9 20.  20.  19.9 19.8 19.8 19.8 19.8 19.8 19.8 19.8 19.8 19.8\n",
      " 19.8 19.8 19.8 19.7 19.7 19.8 19.8 19.7 19.7 19.8 19.8 19.9 19.9 19.8\n",
      " 19.9 19.9 20.  20.  20.1 20.2 20.2 20.2 20.2 20.2 20.3 20.3 20.4 20.4\n",
      " 20.4 20.5 20.6 20.6 20.9 21.2 21.4 21.7 21.6 21.8 22.2 22.4 22.5 22.6\n",
      " 23.3 23.4 23.3 23.4 23.8 24.  24.2 24.4 24.8 24.7 24.7 24.9 25.2 25.5\n",
      " 25.6 25.7 25.6 26.1 26.  26.5 26.4 26.4 26.6 26.9 26.3 26.5 26.3 26.8\n",
      " 26.5 26.3 26.2 26.5 26.8 27.1 26.8 27.  27.5 27.8 27.7 27.3 27.9 27.6\n",
      " 28.2 28.5 27.9 28.2 28.6 28.8 28.5 28.2 28.3 29.3 28.5 28.5 28.  29.\n",
      " 28.5 29.2 30.  29.4 29.7 30.1 29.7 29.5 29.5 29.6 30.  29.7 30.1 29.5\n",
      " 29.4 29.5 30.1 30.  30.4 30.  29.8 30.2 30.1 30.  30.  30.1 30.1 29.9\n",
      " 30.  29.9 30.5 30.1 29.3 29.4 29.5 28.6 26.8 27.  26.5 26.3 26.2 26.2\n",
      " 25.8 25.8 25.5 25.3 24.9 24.8 24.6 24.7]\n"
     ]
    }
   ],
   "source": [
    "print TAIR"
   ]
  },
  {
   "cell_type": "markdown",
   "metadata": {},
   "source": [
    "If we look back at the ```mesonet_importfile()``` function, temperature should be given in degrees Celsius. So the values in this array make physical sense."
   ]
  },
  {
   "cell_type": "markdown",
   "metadata": {},
   "source": [
    "**[TRY THIS]** Print values of other variables to the screen in the cell below and make sure the values make sense. For more information on what the units should be for each variable, refer to the mesonet\\_importfile() function above or the links that give information on the variables contained in the Mesonet data files."
   ]
  },
  {
   "cell_type": "code",
   "execution_count": 9,
   "metadata": {
    "collapsed": true
   },
   "outputs": [],
   "source": [
    "#Print variables to screen here\n"
   ]
  },
  {
   "cell_type": "markdown",
   "metadata": {},
   "source": [
    "***\n",
    "## Data processing\n",
    "Now that we have loaded a data file, we need to do some data processing before we can make plots of the variables we are interested in. In order to do this, we first need to replace any flagged or missing Mesonet data by NaN (not a number) for ease of computation and plotting:"
   ]
  },
  {
   "cell_type": "code",
   "execution_count": 10,
   "metadata": {
    "collapsed": true
   },
   "outputs": [],
   "source": [
    "#Note that np.nan is the NaN (not a number) value provided by NumPy\n",
    "RELH[RELH<-100]=np.nan\n",
    "TAIR[TAIR<-100]=np.nan\n",
    "WSPD[WSPD<-100]=np.nan\n",
    "WDIR[WDIR<-100]=np.nan\n",
    "PRES[PRES<-100]=np.nan\n",
    "SRAD[SRAD<-100]=np.nan\n",
    "TA9M[TA9M<-100]=np.nan\n",
    "WS2M[WS2M<-100]=np.nan"
   ]
  },
  {
   "cell_type": "markdown",
   "metadata": {},
   "source": [
    "We also will need to convert time from minutes to hours to make the axis easier to read when we create plots. "
   ]
  },
  {
   "cell_type": "code",
   "execution_count": 11,
   "metadata": {
    "collapsed": true
   },
   "outputs": [],
   "source": [
    "HOURS = TIME/60."
   ]
  },
  {
   "cell_type": "markdown",
   "metadata": {},
   "source": [
    "Next we will want to fine the u- and v- wind components from the wind speed and direction that are the variables we have from the Mesonet site. Note that the ```np.sin()``` and ```np.cos()``` are the sine and cosine functions from NumPy. "
   ]
  },
  {
   "cell_type": "code",
   "execution_count": 12,
   "metadata": {
    "collapsed": true
   },
   "outputs": [],
   "source": [
    "u = -WSPD*np.sin(WDIR*np.pi/180.)\n",
    "v = -WSPD*np.cos(WDIR*np.pi/180.)"
   ]
  },
  {
   "cell_type": "markdown",
   "metadata": {},
   "source": [
    "### Computing averages\n",
    "This next block of code prepares to calculate hourly averages from the Mesonet data (in the file you downloaded, you have 5-minute averages). \n",
    "\n",
    "For the sake of simplicity, let's suppose that an hour starts on the hour (11:00) and ends at 55 minutes after the hour (11:55) to prevent double counting of the hour marks! We're going to store the hourly averages at the center of the hour (so that the average between 11:00 and 12:00 will be stored at 11:30). Let's build a list of half hours to do this. "
   ]
  },
  {
   "cell_type": "code",
   "execution_count": 13,
   "metadata": {},
   "outputs": [
    {
     "name": "stdout",
     "output_type": "stream",
     "text": [
      "[ 0.5  1.5  2.5  3.5  4.5  5.5  6.5  7.5  8.5  9.5 10.5 11.5 12.5 13.5\n",
      " 14.5 15.5 16.5 17.5 18.5 19.5 20.5 21.5 22.5 23.5]\n"
     ]
    }
   ],
   "source": [
    "#This creates a linearly spaced array from 0.5 to 24 at increment 1.0\n",
    "avg_times = np.arange(0.5,24.0,1.0)\n",
    "\n",
    "#Let's print to screen to make sure the array values make sense.\n",
    "print avg_times"
   ]
  },
  {
   "cell_type": "markdown",
   "metadata": {},
   "source": [
    "The ```avg_times``` array has values [0.5, 1.5, ..., 23.5], which is exactly what we want. "
   ]
  },
  {
   "cell_type": "markdown",
   "metadata": {},
   "source": [
    "Next we will need to allocate variables for the hourly-averaged u and v wind components. Here we are creating empty arrays that are the correct size to store our hourly averages that we will calculate below. "
   ]
  },
  {
   "cell_type": "code",
   "execution_count": 14,
   "metadata": {
    "collapsed": true
   },
   "outputs": [],
   "source": [
    "#Allocate variables\n",
    "#The np.zeros() function creates an empty array the same size as the avg_times array we just created. \n",
    "#The dtype='float' command means that variables in this list are floating point (real) numbers, rather than integers.\n",
    "hourlyu = np.zeros(len(avg_times),dtype='float')    #Creates a variable with same shape as avg_times\n",
    "hourlyv = np.zeros(len(avg_times),dtype='float')    #Creates a variable with same shape as avg_times"
   ]
  },
  {
   "cell_type": "markdown",
   "metadata": {},
   "source": [
    "Let's print some values to screen to make sure we created the arrays correctly."
   ]
  },
  {
   "cell_type": "code",
   "execution_count": 15,
   "metadata": {},
   "outputs": [
    {
     "name": "stdout",
     "output_type": "stream",
     "text": [
      "The length of hourlyu is: 24\n",
      "hourlyu: [0. 0. 0. 0. 0. 0. 0. 0. 0. 0. 0. 0. 0. 0. 0. 0. 0. 0. 0. 0. 0. 0. 0. 0.]\n"
     ]
    }
   ],
   "source": [
    "print 'The length of hourlyu is:', len(hourlyu)\n",
    "print 'hourlyu:', hourlyu"
   ]
  },
  {
   "cell_type": "markdown",
   "metadata": {},
   "source": [
    "We now will calculate hourly-averaged values of the u and v wind components. The average we will compute below is a \"window average\" meaning that we will need to figure out which points to begin and end the sum for the average. For an hourly average with 5-minute data, we will want a 12-point window (e.g. 0-55, 5-115, etc.) We will accomplish this with a start and stop counter for indexing the variable, and use the ```np.nanmean()``` function (which ignores NaN values, in case we have bad or missing data).\n",
    "\n",
    "Note that a loop in Python begins with \"for\" and then defines a range of values that we will loop over. Here we loop from 0 to the length of the avg\\_times array. Also note that the \"for\" command must end with a colon (:) and the commands within the loop are indented. We do not have to have an \"end\" command to exit the loop. Python just understands that when values are no longer indented, we are outside the loop. \n",
    "\n",
    "**[TRY THIS]** Uncomment the \"print i, start, stop\" line in the code below to see which values these variables take on at each iteration of the loop. "
   ]
  },
  {
   "cell_type": "code",
   "execution_count": 16,
   "metadata": {
    "collapsed": true
   },
   "outputs": [],
   "source": [
    "#Initialize start counter\n",
    "start = 0\n",
    "\n",
    "#Loop over averaging times\n",
    "for i in range(0,len(avg_times)):\n",
    "    \n",
    "    #Define stop counter for this iteration\n",
    "    stop = start + 11\n",
    "\n",
    "    #print i, start, stop\n",
    "    \n",
    "    #Calculate hourly averages within window\n",
    "    hourlyu[i] = np.nanmean(u[start:stop])\n",
    "    hourlyv[i] = np.nanmean(v[start:stop])\n",
    "    start = stop + 1\n",
    "    \n",
    "    #This is inside the loop\n",
    "\n",
    "#This is outside the loop"
   ]
  },
  {
   "cell_type": "markdown",
   "metadata": {},
   "source": [
    "Let's print values of 'hourlyu' to the screen to make sure our values are reasonable for the u wind component. "
   ]
  },
  {
   "cell_type": "code",
   "execution_count": 17,
   "metadata": {},
   "outputs": [
    {
     "name": "stdout",
     "output_type": "stream",
     "text": [
      "[-4.14734659 -4.12860574 -3.99862384 -3.75103627 -3.44805682 -3.72679265\n",
      " -4.1761881  -3.9956912   2.65939513 -3.99181269 -2.07310294 -1.66352406\n",
      "  0.42757123  0.09438467  0.27387322  0.20180748  1.67874637  1.72138892\n",
      "  3.12644192  3.4055376   4.1082595   4.55617996  2.78090562 -2.8300526 ]\n"
     ]
    }
   ],
   "source": [
    "print hourlyu"
   ]
  },
  {
   "cell_type": "markdown",
   "metadata": {},
   "source": [
    "## Exercise 1:\n",
    "Add lines of code in the loop above to compute the other averages that you need! Remember to think carefully about how you should calculate hourly averages of the wind direction.\n",
    "***"
   ]
  },
  {
   "cell_type": "markdown",
   "metadata": {},
   "source": [
    "## Plotting\n",
    "\n",
    "Now we move on to plotting. The code below gives examples that allow you to recreate Figures 3 and 4 displayed above. \n",
    "\n",
    "### Plotting pressure\n",
    "Let's first recreate the plot from Figure 3 that is displayed above. This is a timeseries line of atmospheric pressure, measured at the Norman Mesonet station. First we will call the ```plt.figure()``` command, which creates and empty figure, and allows us to set some options for what the figure will look like. Here we are setting the figure size to 8\"x6\", the resolution to 900 dots per inch, no background color (this is the ```facecolor=\"None\"``` command) and the default linewidth to 2. We also define the default font style and size, and the resolution we will use when making plots. The quantity \"f1\" is a figure handle, which allows us to refer to the figure we created in the code. "
   ]
  },
  {
   "cell_type": "code",
   "execution_count": 18,
   "metadata": {},
   "outputs": [
    {
     "data": {
      "text/plain": [
       "<Figure size 7200x5400 with 0 Axes>"
      ]
     },
     "metadata": {},
     "output_type": "display_data"
    }
   ],
   "source": [
    "#This creates a figure, and sets defaults for what the figures will look like. \n",
    "f1 = plt.figure(figsize=(8,6),dpi=900,facecolor=None,linewidth=2.0)#Default figure size, resolution, and line width \n",
    "rc('font',weight='normal',size=12,serif='Computer Modern Roman') #Default font settings\n",
    "rc('savefig',dpi=900)                                            #Default resolution when saving plots"
   ]
  },
  {
   "cell_type": "markdown",
   "metadata": {},
   "source": [
    "Now that we have created an empty figure object, we move on to plotting. The ```plt.plot()``` command tells Matplotlib what to actually draw on your figure. You provide ```plt.plot()``` an x-vector and a y-vector to plot; in our case these are \"HOURS\" and \"PRES.\" The third argument inside the plot command sets the line style. In this case, we choose \"b-\", which is a solid blue line. The options for different lines styles are available from the Matplotlib [here](https://matplotlib.org/gallery/lines_bars_and_markers/line_styles_reference.html). More information on color options in Matplotlib are available [here](https://matplotlib.org/2.0.2/api/colors_api.html). \n",
    "\n",
    "The next command lets use specify what type of marker we want to use on the plot. If we don't specify the marker, we will just have a solid line. Here we use ```marker='s'```, which uses a square to plot at the location of each data point. However, other types of markers are available. For a list, see [this link](https://matplotlib.org/api/markers_api.html). Finally we set the linewidth to 1 (```lw=1.0```), the marker size to 2 (```ms=2```) and the label for the line on the plot to ```'Atm. Pressure'```.\n",
    "\n",
    "The following commands adjust features to make our plot look nice. The ```plt.title()``` command specifies the title for our plot. The ```plt.legend()``` command creates a legend located in the upper left corner of the plot. The ```plt.xlim()``` and ```plt.ylim()``` commands specify the maximum and minimum values on the x- and y- axes. The ```plt.xlabel()``` and ```plt.ylabel()``` commands allow us to label and x- and y-axes. And the ```plt.savefig()``` command saves the figure to a file in png format, with the filename ```\"Norman_press_20180624.png\"```. Be sure to use a filename that is unique, so you don't overwrite the previous figure. If you do not include the full file path here, Python will save the figure in the directory in which you are working. "
   ]
  },
  {
   "cell_type": "code",
   "execution_count": 19,
   "metadata": {},
   "outputs": [
    {
     "data": {
      "image/png": "[encoded data removed]",
      "text/plain": [
       "<Figure size 432x288 with 1 Axes>"
      ]
     },
     "metadata": {},
     "output_type": "display_data"
    }
   ],
   "source": [
    "#Plot pressure vs. time in hours. The line style is controlled by the 'b-' and\n",
    "# the markers (squares in this case) are controlled by the marker='s'.\n",
    "plt.plot(HOURS,PRES,'b-',marker='s',lw=1.0,ms=2,label='Atm. Pressure')\n",
    "\n",
    "# Set the title of the plot\n",
    "plt.title('Atm. Pressure, Norman, 07/30/2018',fontsize=12)\n",
    "\n",
    "# Add a legend to the plot, where the line labels are the values specified in 'label' above\n",
    "plt.legend(loc='upper left',fontsize=12)\n",
    "\n",
    "#Set x- and y-limits of the plot\n",
    "plt.xlim([0,24])\n",
    "plt.ylim([960,980])\n",
    "\n",
    "#Label x and y axes\n",
    "plt.xlabel('Time (UTC)',fontsize=12)\n",
    "plt.ylabel('Atm. Pressure (hPa)',fontsize=12)\n",
    "\n",
    "#Save figure to file in png format, with filename 'Norman_press_20180624.png'\n",
    "plt.savefig('Norman_press_20180730.png',format='png',bbox_inches='tight')\n",
    "plt.show()"
   ]
  },
  {
   "cell_type": "markdown",
   "metadata": {},
   "source": [
    "This file should have been saved to your directory, as 'Norman_press_20180624.png.' Check to make sure you have this file, and can open it. "
   ]
  },
  {
   "cell_type": "markdown",
   "metadata": {},
   "source": [
    "### Plotting solar radiation and rainfall\n",
    "Now, let's recreate Figure 4 (solar radiation and rainfall) that is displayed above. This is a timeseries plot of radiation and rainfall from the Norman Mesonet station. This figure is a bit different, since it has 2 y-axes! The command ```ax2=ax1.twinx()``` creates a right y-axis that shares the same x-axis and can be used for plotting. Note that in this example the axis labels are set a little differently than what we did before. See the comments in the code below for more information on what it is doing. \n",
    "\n",
    "There is also more information from the Matplotlib documentation [here](https://matplotlib.org/2.0.1/examples/api/two_scales.html) that shows how to use the ```ax.twinx()``` command to create a second y-axis and to use it for plotting variables. "
   ]
  },
  {
   "cell_type": "code",
   "execution_count": 20,
   "metadata": {},
   "outputs": [
    {
     "data": {
      "image/png": "[encoded data removed]",
      "text/plain": [
       "<Figure size 432x288 with 2 Axes>"
      ]
     },
     "metadata": {},
     "output_type": "display_data"
    }
   ],
   "source": [
    "#We need to set up this plot a bit differently. \n",
    "\n",
    "#Create an empty figure and axis ax1\n",
    "fig, ax1 = plt.subplots()\n",
    "\n",
    "#Plot solar radiation on the left y-axis\n",
    "ax1.set_ylabel('Solar radiation (W m^-2)',color='b')    #Sets label for left y-axis in blue\n",
    "ax1.set_xlabel('Time (UTC)')                            #Sets the x-axis label\n",
    "ln1=ax1.plot(HOURS,SRAD,'b-',marker='s',lw=1,ms=2)      #Plot radiation using left y-axis\n",
    "ax1.tick_params(axis='y',labelcolor='b')                #Use blue for tick labels on left y-axis\n",
    "plt.xlim([0,24])                                        #Set limits for the x-axis\n",
    "\n",
    "#Create the right y-axis that shares the same x-axis\n",
    "ax2=ax1.twinx()\n",
    "\n",
    "#Plot rainfall on the right y-axis\n",
    "ln2=ax2.plot(HOURS,RAIN,'r-',marker='o',lw=1,ms=2)                          #Plot rainfall using right y-axis that you just created.\n",
    "ax2.set_ylabel('Rainfall (mm)',color='r')                                   #Set right y-axis label in red\n",
    "ax2.tick_params(axis='y',labelcolor='r')                                    #Set ticks on right y-axis in red\n",
    "plt.title('Solar Radiation and Rainfall, Norman, 07/30/2018',fontsize=12)   #Plot title\n",
    "lns=ln1+ln2                                                                 #Combine lines from left and right y-axes so we can create the legend\n",
    "labels=('Sol. Rad.','Rainfall')                                             #Labels for the legend\n",
    "plt.legend(lns,labels,loc='upper left',fontsize=12)                         #Create legend\n",
    "\n",
    "plt.savefig('Norman_rad_rain_20180730.png',format='png',bbox_inches='tight')#Save figure to png format \n",
    "plt.show()"
   ]
  },
  {
   "cell_type": "markdown",
   "metadata": {},
   "source": [
    "## Exercise 2\n",
    "Recreate figures 1 and 2 that are displayed above. Follow the instructions below about the additional data to include on these plots. Also be sure to do all of the analysis required to answer all of the questions below. "
   ]
  },
  {
   "cell_type": "code",
   "execution_count": 21,
   "metadata": {
    "collapsed": true
   },
   "outputs": [],
   "source": [
    "#Add code to create Figure 1 here:\n",
    "\n",
    "\n",
    "\n",
    "\n"
   ]
  },
  {
   "cell_type": "code",
   "execution_count": 22,
   "metadata": {
    "collapsed": true
   },
   "outputs": [],
   "source": [
    "#Add code to create Figure 2 here:\n",
    "\n",
    "\n",
    "\n",
    "\n"
   ]
  },
  {
   "cell_type": "markdown",
   "metadata": {},
   "source": [
    "## Homework problems\n",
    "Solve the following problems:\n",
    "\n",
    "1. Using Figures 1-4, provide a brief summary (short paragraph) of the weather events for the day, including justifications for your thoughts based on the given plots. Remember to include time of occurrence for any events that you choose to discuss. You should access other data sources (e.g. archived radar data and synoptic maps) and include any additional information about that day that you think might be important for your discussion. Also, discuss how the temperatures at the 2 measurement heights compare and if the observations agree with expected trends (**15 pts**). <br><br>\n",
    "\n",
    "2. Reproduce Fig. 1 and 2 by writing your own Python code below. Each figure should be saved as a separate file, and your figures should include a legend, axis titles, and axis labels as shown in Fig. 1 and 2. Make sure that everything is readable (**25 pts**). <br><br>\n",
    "\n",
    "3. Calculate hourly averages of wind direction, wind speed, temperature at 1.5 m and temperature at 9 m. Consider an hour to begin at :00 and to end at :55. The provided starter script provides example computations of hourly averages of u- and v-wind components (**25 pts**). Please be careful how you calculate the average wind directions, make sure to follow the approach presented in the help sessions. <br><br>\n",
    "\n",
    "4. Produce a new version of your Fig. 1 including the hourly averaged temperature data, and a new version of your Fig. 2 including the hourly wind direction and wind speed data. Please plot the hourly averages at :30 past the hour. Save these as separate figures from the ones you produced in task b) (**20 pts**). <br><br>\n",
    "\n",
    "5. Discuss any differences you notice between the raw data and the hourly averages that you plotted in d). Explain why you think these discrepancies exist (**10 pts**). <br><br>\n",
    "\n",
    "6. Place all your files (i.e., your own Python notebook as a .ipynb file, and all of the figures you produced) in a zip file (**5 pts**)\n",
    "\n",
    "### Expected format for the submitted assignment\n",
    "\n",
    "You should submit a text document (in .doc or .pdf format) **and** your zip file (containing your edited matlab script as a .m file and the 4 figures you produced) to the assignment on Canvas. The text document should contain the answers to the questions above, and in your discussion you should refer to the figure numbers. In particular, the answers to questions #1 and #5 should be clearly written, using complete sentences and following the rules of English grammar. Missing or unreadable plot components, such as axis titles, axis labels, legends, or data, typically each result in a 2-pt reduction. \n",
    "\n",
    "**The deadline for submitting your documents is Wednesday, October 3, 2018 at 11:59 pm. The assignment will close at this time and late submissions by email will only be accepted under extraordinary circumstances.**\n",
    "\n",
    "### Helpful tips\n",
    "If you have questions about creating plots in Matplotlib (the Python plotting package), the online documentation is a great place to start before asking your TA or instructor for help. A very good tutorial can be found [here]( https://matplotlib.org/users/pyplot_tutorial.html); however, there are many other useful pages on [the Matplotlib website](https://matplotlib.org). **Please also see the Python tutorials that are posted on Canvas for additional help with Python syntax and plotting.**"
   ]
  },
  {
   "cell_type": "code",
   "execution_count": null,
   "metadata": {},
   "outputs": [],
   "source": []
  },
  {
   "cell_type": "code",
   "execution_count": null,
   "metadata": {},
   "outputs": [],
   "source": []
  }
 ],
 "metadata": {
  "kernelspec": {
   "display_name": "Python 2",
   "language": "python",
   "name": "python2"
  },
  "language_info": {
   "codemirror_mode": {
    "name": "ipython",
    "version": 2
   },
   "file_extension": ".py",
   "mimetype": "text/x-python",
   "name": "python",
   "nbconvert_exporter": "python",
   "pygments_lexer": "ipython2",
   "version": "2.7.11"
  }
 },
 "nbformat": 4,
 "nbformat_minor": 2
}
