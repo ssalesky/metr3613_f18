{
 "cells": [
  {
   "cell_type": "markdown",
   "metadata": {},
   "source": [
    "# METR3613: Meteorological Measurements, Dr. Scott Salesky \n",
    "## The Numerical Python (Numpy) package"
   ]
  },
  {
   "cell_type": "markdown",
   "metadata": {},
   "source": [
    "The goal of this notebook is to introduce/review the Numerical Python package (otherwise known as Numpy). While Python is a very useful programming language in general (and can be used for many different applications), we are primarily interested in using it for scientific computing. Numpy provides additional functionality to Python, including additional data structures and functions, that make it very useful to manipulating numerical data. We will use a number of different functions from Numpy in the METR3613 homework assignments. Some examples of the syntax and different capabilities of Numpy are illustrated in the examples below. "
   ]
  },
  {
   "cell_type": "markdown",
   "metadata": {},
   "source": [
    "## How to use this notebook"
   ]
  },
  {
   "cell_type": "markdown",
   "metadata": {},
   "source": [
    "Because a Python notebook can be run in your browser, one cell at a time, you are encouraged to read through this notebook at your own pace and to make sure you understand the syntax of the examples below. One of the best ways to understand what the code does is to edit it and to change values of some of the variables and to define your own variables, functions, etc. So feel free to make this document your own and to try out writing code following the examples that are given below. \n",
    "***"
   ]
  },
  {
   "cell_type": "code",
   "execution_count": 2,
   "metadata": {},
   "outputs": [],
   "source": [
    "#Import some packages that will be useful later on...\n",
    "%matplotlib inline\n",
    "import matplotlib.pyplot as plt"
   ]
  },
  {
   "cell_type": "markdown",
   "metadata": {},
   "source": [
    "#### Overview of Numpy\n",
    "The `numpy` package is used to do numerical calculations in Python. It provides vector and matrix data structures for Python, as well as built-in numerical functions. \n",
    "\n",
    "To use `numpy`, you will need to import the module as seen below:"
   ]
  },
  {
   "cell_type": "code",
   "execution_count": 3,
   "metadata": {},
   "outputs": [],
   "source": [
    "import numpy as np"
   ]
  },
  {
   "cell_type": "markdown",
   "metadata": {},
   "source": [
    "This imports all of the Numpy functions as `np.functionname` that we be accessed in our code. "
   ]
  },
  {
   "cell_type": "markdown",
   "metadata": {},
   "source": [
    "## Creating Numpy arrays\n",
    "The main way we work with data in Numpy is through an array. An array is similar to a Python list, but is much more general. We can define a 2-D array (think of a matrix), or an array with higher dimensions, e.g. a 4-D array for meteorological variables that are a function of $x$, $y$, $z$, and $t$. There are several ways that we can create Numpy arrays. "
   ]
  },
  {
   "cell_type": "markdown",
   "metadata": {},
   "source": [
    "### From lists\n",
    "If we already have a list object, we can use the `np.array` function."
   ]
  },
  {
   "cell_type": "code",
   "execution_count": 4,
   "metadata": {},
   "outputs": [
    {
     "data": {
      "text/plain": [
       "array([1, 2, 3, 4])"
      ]
     },
     "execution_count": 4,
     "metadata": {},
     "output_type": "execute_result"
    }
   ],
   "source": [
    "#A vector: the argument to the array function is a Python list\n",
    "v = np.array([1,2,3,4])\n",
    "v"
   ]
  },
  {
   "cell_type": "code",
   "execution_count": 5,
   "metadata": {},
   "outputs": [
    {
     "data": {
      "text/plain": [
       "array([[1, 2],\n",
       "       [3, 4]])"
      ]
     },
     "execution_count": 5,
     "metadata": {},
     "output_type": "execute_result"
    }
   ],
   "source": [
    "#A matrix: the argument to the array function is a nested Python list\n",
    "M = np.array([[1,2],[3,4]])\n",
    "M"
   ]
  },
  {
   "cell_type": "markdown",
   "metadata": {},
   "source": [
    "Both the `v` and `M` variables are of type `ndarray` provided by the `numpy` module. "
   ]
  },
  {
   "cell_type": "code",
   "execution_count": 6,
   "metadata": {},
   "outputs": [
    {
     "data": {
      "text/plain": [
       "(numpy.ndarray, numpy.ndarray)"
      ]
     },
     "execution_count": 6,
     "metadata": {},
     "output_type": "execute_result"
    }
   ],
   "source": [
    "type(v), type(M)"
   ]
  },
  {
   "cell_type": "markdown",
   "metadata": {},
   "source": [
    "The only difference between `v` and `M` is their shapes. We can get information on the shape of an array through the `ndarray.shape` property."
   ]
  },
  {
   "cell_type": "code",
   "execution_count": 7,
   "metadata": {},
   "outputs": [
    {
     "data": {
      "text/plain": [
       "(4,)"
      ]
     },
     "execution_count": 7,
     "metadata": {},
     "output_type": "execute_result"
    }
   ],
   "source": [
    "v.shape"
   ]
  },
  {
   "cell_type": "code",
   "execution_count": 8,
   "metadata": {},
   "outputs": [
    {
     "data": {
      "text/plain": [
       "(2, 2)"
      ]
     },
     "execution_count": 8,
     "metadata": {},
     "output_type": "execute_result"
    }
   ],
   "source": [
    "M.shape"
   ]
  },
  {
   "cell_type": "markdown",
   "metadata": {},
   "source": [
    "We can check how many elements are in an array through the `ndarray.size` property:"
   ]
  },
  {
   "cell_type": "code",
   "execution_count": 9,
   "metadata": {},
   "outputs": [
    {
     "data": {
      "text/plain": [
       "4"
      ]
     },
     "execution_count": 9,
     "metadata": {},
     "output_type": "execute_result"
    }
   ],
   "source": [
    "M.size"
   ]
  },
  {
   "cell_type": "markdown",
   "metadata": {},
   "source": [
    "Or, we could use `np.shape` and `np.size`:"
   ]
  },
  {
   "cell_type": "code",
   "execution_count": 10,
   "metadata": {},
   "outputs": [
    {
     "data": {
      "text/plain": [
       "(2, 2)"
      ]
     },
     "execution_count": 10,
     "metadata": {},
     "output_type": "execute_result"
    }
   ],
   "source": [
    "np.shape(M)"
   ]
  },
  {
   "cell_type": "code",
   "execution_count": 11,
   "metadata": {},
   "outputs": [
    {
     "data": {
      "text/plain": [
       "4"
      ]
     },
     "execution_count": 11,
     "metadata": {},
     "output_type": "execute_result"
    }
   ],
   "source": [
    "np.size(M)"
   ]
  },
  {
   "cell_type": "markdown",
   "metadata": {},
   "source": [
    "### But why use a Numpy array instead of a list? \n",
    "#### Isn't this unnecessarily complicated? \n",
    "There are several reasons to use Numpy arrays rather than Python lists. \n",
    "- Python lists are very general and can contain any kind of object. They do not support mathematical operations such as matrix multiplications, etc. \n",
    "- Numpy arrays are **homogeneous** (containing only one type of variable) and **statically typed** (the type of the elements is determined when the array is created). \n",
    "- Numpy arrays are memory efficient. \n",
    "- Mathmatical functions (such as multiplication and addition of Numpy arrays) can be implemented with much faster execution speed. \n",
    "\n",
    "Using the `dtype` (data type) property of an `ndarray`, we can see what type the data of an array has:"
   ]
  },
  {
   "cell_type": "code",
   "execution_count": 12,
   "metadata": {},
   "outputs": [
    {
     "data": {
      "text/plain": [
       "dtype('int64')"
      ]
     },
     "execution_count": 12,
     "metadata": {},
     "output_type": "execute_result"
    }
   ],
   "source": [
    "M.dtype"
   ]
  },
  {
   "cell_type": "markdown",
   "metadata": {},
   "source": [
    "We get an error if we try to assign a value of the wrong type to an element in an array:"
   ]
  },
  {
   "cell_type": "code",
   "execution_count": 13,
   "metadata": {},
   "outputs": [
    {
     "ename": "ValueError",
     "evalue": "invalid literal for long() with base 10: 'hello'",
     "output_type": "error",
     "traceback": [
      "\u001b[0;31m---------------------------------------------------------------------------\u001b[0m",
      "\u001b[0;31mValueError\u001b[0m                                Traceback (most recent call last)",
      "\u001b[0;32m<ipython-input-13-a09d72434238>\u001b[0m in \u001b[0;36m<module>\u001b[0;34m()\u001b[0m\n\u001b[0;32m----> 1\u001b[0;31m \u001b[0mM\u001b[0m\u001b[0;34m[\u001b[0m\u001b[0;36m0\u001b[0m\u001b[0;34m,\u001b[0m\u001b[0;36m0\u001b[0m\u001b[0;34m]\u001b[0m \u001b[0;34m=\u001b[0m \u001b[0;34m\"hello\"\u001b[0m\u001b[0;34m\u001b[0m\u001b[0m\n\u001b[0m",
      "\u001b[0;31mValueError\u001b[0m: invalid literal for long() with base 10: 'hello'"
     ]
    }
   ],
   "source": [
    "M[0,0] = \"hello\""
   ]
  },
  {
   "cell_type": "markdown",
   "metadata": {},
   "source": [
    "If we want, we can define the type of variables contained in an array when we define it using the `dtype` keyword:"
   ]
  },
  {
   "cell_type": "code",
   "execution_count": null,
   "metadata": {},
   "outputs": [],
   "source": [
    "M = np.array([[1,2],[3,4]], dtype='complex')\n",
    "M"
   ]
  },
  {
   "cell_type": "markdown",
   "metadata": {},
   "source": [
    "Common data types that can be used with `dtype` are `int`, `float`, `complex`, `bool`, `object`, etc. \n",
    "\n",
    "We can also define the precision of the data types, e.g. `int64`, `int16`, `float128`, `complex128`."
   ]
  },
  {
   "cell_type": "markdown",
   "metadata": {},
   "source": [
    "### Using array-generating functions\n",
    "\n",
    "For large arrays, it's not practical to intialize the data manually using explicit Python lists. Instead, we can use some of the built-in functions in Numpy that generate arrays for us. "
   ]
  },
  {
   "cell_type": "markdown",
   "metadata": {},
   "source": [
    "#### arange\n",
    "Create an array between the start and stop values with increment specified by the step. "
   ]
  },
  {
   "cell_type": "code",
   "execution_count": null,
   "metadata": {},
   "outputs": [],
   "source": [
    "#Create a range\n",
    "x = np.arange(0,10,1) #Arguments: start, stop, step\n",
    "x"
   ]
  },
  {
   "cell_type": "code",
   "execution_count": null,
   "metadata": {},
   "outputs": [],
   "source": [
    "x = np.arange(-1,1,0.1)\n",
    "x"
   ]
  },
  {
   "cell_type": "markdown",
   "metadata": {},
   "source": [
    "#### linspace and logspace\n",
    "Creates an array that is equally spaced on a linear or logarithmic scale"
   ]
  },
  {
   "cell_type": "code",
   "execution_count": null,
   "metadata": {},
   "outputs": [],
   "source": [
    "#Using linspace, both end points ARE included\n",
    "np.linspace(0,10,25)"
   ]
  },
  {
   "cell_type": "code",
   "execution_count": null,
   "metadata": {},
   "outputs": [],
   "source": [
    "np.logspace(0,10,10,base=np.e)"
   ]
  },
  {
   "cell_type": "markdown",
   "metadata": {},
   "source": [
    "#### mgrid"
   ]
  },
  {
   "cell_type": "code",
   "execution_count": null,
   "metadata": {},
   "outputs": [],
   "source": [
    "x, y = np.mgrid[0:5, 0:5] #Similar to meshgrid in Matlab"
   ]
  },
  {
   "cell_type": "code",
   "execution_count": null,
   "metadata": {},
   "outputs": [],
   "source": [
    "x"
   ]
  },
  {
   "cell_type": "code",
   "execution_count": null,
   "metadata": {},
   "outputs": [],
   "source": [
    "y"
   ]
  },
  {
   "cell_type": "markdown",
   "metadata": {},
   "source": [
    "#### diagonal matrix"
   ]
  },
  {
   "cell_type": "code",
   "execution_count": null,
   "metadata": {},
   "outputs": [],
   "source": [
    "#A diagonal matrix\n",
    "np.diag([1,2,3])"
   ]
  },
  {
   "cell_type": "markdown",
   "metadata": {},
   "source": [
    "#### zeros and ones"
   ]
  },
  {
   "cell_type": "code",
   "execution_count": null,
   "metadata": {},
   "outputs": [],
   "source": [
    "#Note: This is an incredibly useful way to create empty arrays with a given data type. \n",
    "np.zeros((3,3),dtype='float')"
   ]
  },
  {
   "cell_type": "code",
   "execution_count": null,
   "metadata": {},
   "outputs": [],
   "source": [
    "np.ones((3,3))"
   ]
  },
  {
   "cell_type": "markdown",
   "metadata": {},
   "source": [
    "## File Input and Output\n",
    "Numpy contains many functions for reading and writing different kinds of data files. However, you will not need to write code to read in data files yourself in this course. This code will be provided. However, for more information on File IO with Numpy, see\n",
    "[this link](https://docs.scipy.org/doc/numpy/reference/routines.io.html). "
   ]
  },
  {
   "cell_type": "markdown",
   "metadata": {},
   "source": [
    "## Manipulating arrays\n",
    "Similar to Python lists, we can index the elements in a Numpy array. "
   ]
  },
  {
   "cell_type": "code",
   "execution_count": null,
   "metadata": {},
   "outputs": [],
   "source": [
    "#V is a vector and only has one dimension, so it takes one index\n",
    "v[0]"
   ]
  },
  {
   "cell_type": "code",
   "execution_count": null,
   "metadata": {},
   "outputs": [],
   "source": [
    "#M is a matrix or a 2 dimensional array and takes two indices\n",
    "M = np.array([[1,2],[3,4]])\n",
    "M[1,1]"
   ]
  },
  {
   "cell_type": "markdown",
   "metadata": {},
   "source": [
    "If we omit the index of a multidimensional array, it returns the whole row"
   ]
  },
  {
   "cell_type": "code",
   "execution_count": null,
   "metadata": {},
   "outputs": [],
   "source": [
    "M[1]"
   ]
  },
  {
   "cell_type": "markdown",
   "metadata": {},
   "source": [
    "The same thing can be achieved using `:` instead of an index:"
   ]
  },
  {
   "cell_type": "code",
   "execution_count": null,
   "metadata": {},
   "outputs": [],
   "source": [
    "M[1,:] #row 1"
   ]
  },
  {
   "cell_type": "code",
   "execution_count": null,
   "metadata": {},
   "outputs": [],
   "source": [
    "M[:,1] #column 1"
   ]
  },
  {
   "cell_type": "markdown",
   "metadata": {},
   "source": [
    "We can assign new values to an array element:"
   ]
  },
  {
   "cell_type": "code",
   "execution_count": null,
   "metadata": {},
   "outputs": [],
   "source": [
    "M[0,0] = -5"
   ]
  },
  {
   "cell_type": "code",
   "execution_count": null,
   "metadata": {},
   "outputs": [],
   "source": [
    "M"
   ]
  },
  {
   "cell_type": "code",
   "execution_count": null,
   "metadata": {},
   "outputs": [],
   "source": [
    "#This also works for rows and columns\n",
    "M[1,:] = 0\n",
    "M"
   ]
  },
  {
   "cell_type": "code",
   "execution_count": null,
   "metadata": {},
   "outputs": [],
   "source": [
    "M[:,0] = -1\n",
    "M"
   ]
  },
  {
   "cell_type": "markdown",
   "metadata": {},
   "source": [
    "### Index slicing\n",
    "Similar to Python lists, we can use the syntax `M[lower:upper:step]` to extact part of an array. "
   ]
  },
  {
   "cell_type": "code",
   "execution_count": null,
   "metadata": {},
   "outputs": [],
   "source": [
    "A = np.array([1,2,3,4,5,6,7,8,9,10])\n",
    "A"
   ]
  },
  {
   "cell_type": "code",
   "execution_count": null,
   "metadata": {},
   "outputs": [],
   "source": [
    "A[1:3]"
   ]
  },
  {
   "cell_type": "markdown",
   "metadata": {},
   "source": [
    "We can omit any of the parameters in `M[lower:upper:step]`"
   ]
  },
  {
   "cell_type": "code",
   "execution_count": null,
   "metadata": {},
   "outputs": [],
   "source": [
    "A[::] #lower, upper, step take default values"
   ]
  },
  {
   "cell_type": "code",
   "execution_count": null,
   "metadata": {},
   "outputs": [],
   "source": [
    "A[::2] #step is 2, lower and upper default to beginning and end of array"
   ]
  },
  {
   "cell_type": "code",
   "execution_count": null,
   "metadata": {},
   "outputs": [],
   "source": [
    "A[:3] #first 3 elements"
   ]
  },
  {
   "cell_type": "code",
   "execution_count": null,
   "metadata": {},
   "outputs": [],
   "source": [
    "A[3:] #elements from index 3"
   ]
  },
  {
   "cell_type": "markdown",
   "metadata": {},
   "source": [
    "Negative indices count from the end of the array."
   ]
  },
  {
   "cell_type": "code",
   "execution_count": null,
   "metadata": {},
   "outputs": [],
   "source": [
    "A[-1] #last element of the array"
   ]
  },
  {
   "cell_type": "code",
   "execution_count": null,
   "metadata": {},
   "outputs": [],
   "source": [
    "A[-3:] #the last 3 elements"
   ]
  },
  {
   "cell_type": "markdown",
   "metadata": {},
   "source": [
    "Index slicing works the same for multidimensional arrays"
   ]
  },
  {
   "cell_type": "code",
   "execution_count": null,
   "metadata": {},
   "outputs": [],
   "source": [
    "A = np.array([[n+m for n in range(5)] for m in range(5)])\n",
    "A"
   ]
  },
  {
   "cell_type": "code",
   "execution_count": null,
   "metadata": {},
   "outputs": [],
   "source": [
    "#A block from the original array\n",
    "A[1:4,1:4]"
   ]
  },
  {
   "cell_type": "code",
   "execution_count": null,
   "metadata": {},
   "outputs": [],
   "source": [
    "#Strides of 2\n",
    "A[::2,::2]"
   ]
  },
  {
   "cell_type": "markdown",
   "metadata": {},
   "source": [
    "## Basic data processing\n",
    "Numpy arrays are very useful for storing real data (this is what we will use them for in METR3613). Numpy provides a numpy of functions to calculate statistics of datasets in arrays. "
   ]
  },
  {
   "cell_type": "code",
   "execution_count": 15,
   "metadata": {},
   "outputs": [],
   "source": [
    "#Air temperature data from Norman Mesonet station on August 1, 2018\n",
    "Tdata = np.array([27.5, 27.5, 27.4, 27.3, 27.2, 27.3, 27.2, 27.1, 26.9, 26.6, 26.3, 25.9, 25.9, 25.7, 25.4, 25.6,\n",
    "25.3, 25.2, 25.0, 24.8, 24.5, 24.5, 24.5, 24.4, 24.3, 24.2, 23.9, 23.9, 23.0, 22.9, 22.8, 22.9,\n",
    "22.5, 21.5, 21.9, 22.5, 22.8, 22.1, 21.1, 21.3, 21.7, 21.7, 21.2, 21.1, 21.3, 21.1, 21.1, 20.6,\n",
    "20.0, 20.4, 20.3, 19.6, 20.2, 20.2, 20.0, 19.8, 19.8, 20.4, 20.5, 19.7, 19.6, 19.7, 19.9, 19.7,\n",
    "19.5, 19.2, 19.2, 19.2, 19.3, 19.1, 19.2, 19.1, 19.0, 18.9, 18.7, 18.9, 18.7, 18.7, 19.0, 18.6,\n",
    "18.5, 18.4, 18.0, 17.9, 18.0, 18.1, 18.2, 18.4, 18.3, 18.1, 18.5, 18.7, 18.2, 18.0, 18.2, 18.3,\n",
    "18.4, 18.0, 18.1, 18.0, 18.3, 18.0, 18.2, 18.2, 18.3, 17.5, 17.6, 17.6, 17.4, 17.8, 17.8, 17.6,\n",
    "17.7, 17.7, 17.8, 17.8, 17.6, 17.3, 17.6, 18.0, 17.6, 17.5, 17.5, 17.4, 17.0, 16.9, 17.1, 17.1,\n",
    "17.1, 17.0, 16.7, 16.9, 16.6, 16.5, 16.2, 16.7, 16.6, 16.6, 16.6, 16.5, 16.5, 16.5, 16.3, 16.6,\n",
    "16.9, 17.0, 17.1, 17.2, 17.2, 17.6, 18.2, 18.3, 18.5, 18.8, 19.2, 19.5, 19.9, 20.0, 20.3, 20.5,\n",
    "20.9, 21.3, 21.5, 21.6, 21.8, 22.0, 22.2, 22.3, 22.6, 22.7, 23.0, 23.4, 24.2, 24.5, 24.5, 24.9,\n",
    "24.8, 24.9, 25.5, 25.7, 26.0, 26.4, 26.3, 26.3, 26.4, 26.3, 26.5, 26.7, 26.7, 27.1, 27.0, 26.9,\n",
    "27.2, 27.4, 27.5, 27.6, 27.5, 28.1, 28.0, 28.1, 27.9, 28.1, 28.3, 28.6, 28.4, 28.3, 28.6, 28.5,\n",
    "28.8, 28.8, 28.7, 28.7, 29.1, 29.0, 29.3, 29.0, 29.1, 28.8, 29.2, 29.3, 29.2, 29.8, 29.9, 29.9,\n",
    "28.5, 28.7, 28.5, 29.6, 29.7, 29.2, 29.7, 29.9, 29.7, 29.9, 29.4, 29.8, 29.9, 29.6, 29.8, 30.0,\n",
    "30.5, 30.1, 30.4, 30.0, 29.7, 29.4, 30.0, 29.8, 30.4, 30.4, 30.5, 30.7, 30.8, 30.8, 30.3, 30.5,\n",
    "30.8, 30.4, 30.4, 30.2, 30.6, 30.4, 30.5, 30.7, 30.0, 29.6, 29.8, 30.1, 29.5, 29.2, 29.2, 29.7,\n",
    "30.1, 29.8, 29.2, 29.1, 29.2, 29.0, 29.5, 29.6, 29.3, 29.5, 29.1, 29.2, 29.7, 29.8, 29.9, 29.6])"
   ]
  },
  {
   "cell_type": "code",
   "execution_count": 16,
   "metadata": {},
   "outputs": [
    {
     "data": {
      "text/plain": [
       "(288,)"
      ]
     },
     "execution_count": 16,
     "metadata": {},
     "output_type": "execute_result"
    }
   ],
   "source": [
    "#Get the shape of the array\n",
    "Tdata.shape"
   ]
  },
  {
   "cell_type": "markdown",
   "metadata": {},
   "source": [
    "#### mean"
   ]
  },
  {
   "cell_type": "code",
   "execution_count": 17,
   "metadata": {},
   "outputs": [
    {
     "data": {
      "text/plain": [
       "23.643402777777776"
      ]
     },
     "execution_count": 17,
     "metadata": {},
     "output_type": "execute_result"
    }
   ],
   "source": [
    "np.mean(Tdata)"
   ]
  },
  {
   "cell_type": "markdown",
   "metadata": {},
   "source": [
    "#### standard deviation and variance"
   ]
  },
  {
   "cell_type": "code",
   "execution_count": 18,
   "metadata": {},
   "outputs": [
    {
     "data": {
      "text/plain": [
       "4.949336187700445"
      ]
     },
     "execution_count": 18,
     "metadata": {},
     "output_type": "execute_result"
    }
   ],
   "source": [
    "np.std(Tdata)"
   ]
  },
  {
   "cell_type": "code",
   "execution_count": 19,
   "metadata": {},
   "outputs": [
    {
     "data": {
      "text/plain": [
       "24.495928698881173"
      ]
     },
     "execution_count": 19,
     "metadata": {},
     "output_type": "execute_result"
    }
   ],
   "source": [
    "np.var(Tdata)"
   ]
  },
  {
   "cell_type": "markdown",
   "metadata": {},
   "source": [
    "#### min and max values"
   ]
  },
  {
   "cell_type": "code",
   "execution_count": 20,
   "metadata": {},
   "outputs": [
    {
     "data": {
      "text/plain": [
       "16.2"
      ]
     },
     "execution_count": 20,
     "metadata": {},
     "output_type": "execute_result"
    }
   ],
   "source": [
    "Tdata.min()"
   ]
  },
  {
   "cell_type": "code",
   "execution_count": 21,
   "metadata": {},
   "outputs": [
    {
     "data": {
      "text/plain": [
       "30.8"
      ]
     },
     "execution_count": 21,
     "metadata": {},
     "output_type": "execute_result"
    }
   ],
   "source": [
    "Tdata.max()"
   ]
  },
  {
   "cell_type": "markdown",
   "metadata": {},
   "source": [
    "## Further reading\n",
    "- (http://www.numpy.org/) - Numpy homepage\n",
    "- (https://docs.scipy.org/doc/numpy/user/quickstart.html) - The official Numpy tutorial\n",
    "- (https://docs.scipy.org/doc/numpy/reference/index.html) - Numpy reference documentation (describes many additional functions we didn't cover here)\n",
    "- (https://docs.scipy.org/doc/scipy/reference/) SciPy (Scientific Python) documentation. SciPy contains additional functions beyond what is provided in NumPy along (integration, optimization, signal processing, interpolation, linear algebra, ODEs, etc.)"
   ]
  }
 ],
 "metadata": {
  "kernelspec": {
   "display_name": "Python 2",
   "language": "python",
   "name": "python2"
  },
  "language_info": {
   "codemirror_mode": {
    "name": "ipython",
    "version": 2
   },
   "file_extension": ".py",
   "mimetype": "text/x-python",
   "name": "python",
   "nbconvert_exporter": "python",
   "pygments_lexer": "ipython2",
   "version": "2.7.11"
  }
 },
 "nbformat": 4,
 "nbformat_minor": 2
}
